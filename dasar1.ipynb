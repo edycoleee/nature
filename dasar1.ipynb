{
 "cells": [
  {
   "cell_type": "code",
   "execution_count": null,
   "id": "f9fbe347",
   "metadata": {},
   "outputs": [
    {
     "name": "stdout",
     "output_type": "stream",
     "text": [
      "15\n"
     ]
    }
   ],
   "source": [
    "# 📦 1. VARIABEL\n",
    "# Paham bahwa variabel menyimpan nilai yang bisa berubah, seperti kecepatan, posisi, warna.\n",
    "x = 10  # posisi horizontal\n",
    "speed = 5  # kecepatan ke kanan\n",
    "\n",
    "print(x + speed)  # hasilnya 15"
   ]
  },
  {
   "cell_type": "code",
   "execution_count": null,
   "id": "d29458d0",
   "metadata": {},
   "outputs": [],
   "source": [
    "# 🧱 2. FUNCTION (FUNGSI)\n",
    "# Paham bahwa fungsi adalah blok perintah yang bisa dipanggil berulang kali, untuk mengelompokkan logika tertentu.\n",
    "\n",
    "def sapa():\n",
    "    print(\"Halo, ini fungsi!\")\n",
    "\n",
    "sapa()  # Halo, ini fungsi!"
   ]
  },
  {
   "cell_type": "code",
   "execution_count": null,
   "id": "03753338",
   "metadata": {},
   "outputs": [
    {
     "name": "stdout",
     "output_type": "stream",
     "text": [
      "Halo:  silmi Alamat :  semarang\n",
      "Alamat :  semarang\n"
     ]
    }
   ],
   "source": [
    "# 🌍 2. GLOBAL VARIABLE\n",
    "# Paham bahwa variabel bisa diakses di mana-mana kalau dideklarasikan sebagai global.\n",
    "# Biasanya dipakai saat ingin mengubah/mengambil nilai dari luar fungsi.\n",
    "\n",
    "nama = \"silmi\"  # variabel global\n",
    "\n",
    "def sapa():\n",
    "    global alamat\n",
    "    alamat = \"semarang\"\n",
    "    print(\"Halo: \", nama,\"Alamat : \", alamat)\n",
    "\n",
    "sapa()  # Halo, ini fungsi!\n",
    "print(\"Alamat : \", alamat)"
   ]
  },
  {
   "cell_type": "code",
   "execution_count": null,
   "id": "70fedae7",
   "metadata": {},
   "outputs": [
    {
     "name": "stdout",
     "output_type": "stream",
     "text": [
      "silmi semarang 8\n",
      "edy pati 8\n",
      "Nama: silmi, Alamat: semarang, Kelas: 8\n",
      "dina solo 8 Lomba: matematika\n"
     ]
    }
   ],
   "source": [
    "# Kelas Bola\n",
    "class Siswa:\n",
    "    #self\tmenunjuk ke objek itu sendiri\n",
    "    def __init__(self, nama, alamat):\n",
    "        self.nama = nama\n",
    "        self.alamat = alamat\n",
    "        self.kelas = 8\n",
    "\n",
    "    def identitas(self):\n",
    "        print(self.nama, self.alamat, self.kelas)\n",
    "\n",
    "    #__str__() untuk cetak objek dengan lebih rapi\n",
    "    def __str__(self):\n",
    "        return f\"Nama: {self.nama}, Alamat: {self.alamat}, Kelas: {self.kelas}\"\n",
    "    \n",
    "siswa1 = Siswa(\"silmi\", \"semarang\")\n",
    "siswa1.identitas() #silmi semarang 8\n",
    "\n",
    "siswa2 = Siswa(\"edy\", \"pati\") \n",
    "siswa2.identitas() #edy pati 8\n",
    "\n",
    "print(siswa1) # Nama: silmi, Alamat: semarang, Kelas: 8\n",
    "\n",
    "\n",
    "#2. Mewarisi Kelas (Pewarisan / Inheritance)\n",
    "class SiswaOlimpiade(Siswa):  # mewarisi dari Siswa\n",
    "    def __init__(self, nama, alamat, lomba):\n",
    "        #super()\tmenunjuk ke kelas induk (parent), berguna saat kita extend kelas lain\n",
    "        super().__init__(nama, alamat)  # panggil konstruktor dari kelas Siswa\n",
    "        self.lomba = lomba\n",
    "\n",
    "    def identitas(self):\n",
    "        # menambahkan info lomba ke identitas\n",
    "        print(self.nama, self.alamat, self.kelas, \"Lomba:\", self.lomba)\n",
    "\n",
    "siswa3 = SiswaOlimpiade(\"dina\", \"solo\", \"matematika\")\n",
    "siswa3.identitas() #dina solo 8 Lomba: matematika\n",
    "\n"
   ]
  },
  {
   "cell_type": "code",
   "execution_count": 9,
   "id": "9af8f977",
   "metadata": {},
   "outputs": [],
   "source": [
    "import tkinter as tk\n",
    "\n",
    "root = tk.Tk()\n",
    "canvas = tk.Canvas(root, width=300, height=150, bg=\"white\")\n",
    "canvas.pack()\n",
    "\n",
    "bola = canvas.create_oval(10, 60, 30, 80, fill=\"red\")\n",
    "garis = canvas.create_line(0, 70, 300, 70, fill=\"black\")\n",
    "tulisan = canvas.create_text(150, 20, text=\"Simulasi Bola\", font=(\"Arial\", 14))\n",
    "\n",
    "root.mainloop()\n"
   ]
  },
  {
   "cell_type": "code",
   "execution_count": null,
   "id": "60707dd4",
   "metadata": {},
   "outputs": [],
   "source": [
    "import tkinter as tk\n",
    "\n",
    "def gerak():\n",
    "    canvas.move(bola, 5, 0)\n",
    "    canvas.after(100, gerak)\n",
    "\n",
    "root = tk.Tk()\n",
    "canvas = tk.Canvas(root, width=300, height=150, bg=\"white\")\n",
    "canvas.pack()\n",
    "\n",
    "bola = canvas.create_oval(10, 60, 30, 80, fill=\"red\")\n",
    "garis = canvas.create_line(0, 70, 300, 70, fill=\"black\")\n",
    "tulisan = canvas.create_text(150, 20, text=\"Simulasi Bola\", font=(\"Arial\", 14))\n",
    "\n",
    "gerak()\n",
    "root.mainloop()\n"
   ]
  },
  {
   "cell_type": "code",
   "execution_count": 8,
   "id": "6cf43ece",
   "metadata": {},
   "outputs": [],
   "source": [
    "import tkinter as tk\n",
    "\n",
    "# Kelas Bola\n",
    "class Bola:\n",
    "    def __init__(self, canvas, x, y, warna):\n",
    "        self.canvas = canvas\n",
    "        self.shape = canvas.create_oval(x, y, x+20, y+20, fill=warna)\n",
    "        self.kecepatan = 5\n",
    "\n",
    "    def gerak(self):\n",
    "        # Gerakkan bola ke kanan\n",
    "        self.canvas.move(self.shape, self.kecepatan, 0)\n",
    "        # Panggil lagi fungsi gerak setelah 100ms\n",
    "        self.canvas.after(100, self.gerak)\n",
    "\n",
    "# Buat jendela utama dan canvas\n",
    "root = tk.Tk()\n",
    "canvas = tk.Canvas(root, width=300, height=150, bg=\"white\")\n",
    "canvas.pack()\n",
    "\n",
    "# Tambahan garis dan teks\n",
    "garis = canvas.create_line(0, 70, 300, 70, fill=\"black\")\n",
    "tulisan = canvas.create_text(150, 20, text=\"Simulasi Bola\", font=(\"Arial\", 14))\n",
    "\n",
    "# Buat satu bola dan mulai gerak\n",
    "bola1 = Bola(canvas, 10, 60, \"red\")\n",
    "bola1.gerak()\n",
    "\n",
    "root.mainloop()\n"
   ]
  },
  {
   "cell_type": "code",
   "execution_count": 9,
   "id": "a1e22a27",
   "metadata": {},
   "outputs": [],
   "source": [
    "import tkinter as tk\n",
    "\n",
    "# Kelas Bola\n",
    "class Bola:\n",
    "    def __init__(self, canvas, x, y, warna, kecepatan):\n",
    "        self.canvas = canvas\n",
    "        self.shape = canvas.create_oval(x, y, x+20, y+20, fill=warna)\n",
    "        self.kecepatan = kecepatan\n",
    "\n",
    "    def gerak(self):\n",
    "        # Gerakkan bola ke kanan\n",
    "        self.canvas.move(self.shape, self.kecepatan, 0)\n",
    "        # Panggil fungsi ini terus menerus\n",
    "        self.canvas.after(100, self.gerak)\n",
    "\n",
    "# Buat jendela utama dan canvas\n",
    "root = tk.Tk()\n",
    "canvas = tk.Canvas(root, width=400, height=200, bg=\"white\")\n",
    "canvas.pack()\n",
    "\n",
    "# Tambahan garis dan teks\n",
    "garis = canvas.create_line(0, 100, 400, 100, fill=\"black\")\n",
    "tulisan = canvas.create_text(200, 20, text=\"Simulasi Dua Bola\", font=(\"Arial\", 14))\n",
    "\n",
    "# Buat dua bola dengan kecepatan berbeda\n",
    "bola_merah = Bola(canvas, 10, 90, \"red\", kecepatan=5)\n",
    "bola_biru = Bola(canvas, 10, 120, \"blue\", kecepatan=3)\n",
    "\n",
    "# Jalankan keduanya\n",
    "bola_merah.gerak()\n",
    "bola_biru.gerak()\n",
    "\n",
    "root.mainloop()\n"
   ]
  },
  {
   "cell_type": "code",
   "execution_count": 10,
   "id": "9601ff8d",
   "metadata": {},
   "outputs": [],
   "source": [
    "import tkinter as tk\n",
    "\n",
    "# Buat class Vector2D sendiri\n",
    "class Vector:\n",
    "    def __init__(self, x, y):\n",
    "        self.x = x\n",
    "        self.y = y\n",
    "\n",
    "    # Tambah vektor\n",
    "    def add(self, other):\n",
    "        self.x += other.x\n",
    "        self.y += other.y\n",
    "\n",
    "# Kelas Bola pakai posisi & kecepatan vektor\n",
    "class Bola:\n",
    "    def __init__(self, canvas, x, y, warna):\n",
    "        self.canvas = canvas\n",
    "        self.position = Vector(x, y)        # Posisi awal\n",
    "        self.velocity = Vector(2, 0)        # Kecepatan ke kanan\n",
    "        self.radius = 10                    # Ukuran bola\n",
    "        self.shape = canvas.create_oval(\n",
    "            x, y, x + self.radius*2, y + self.radius*2, fill=warna\n",
    "        )\n",
    "\n",
    "    def update(self):\n",
    "        # Tambahkan kecepatan ke posisi\n",
    "        self.position.add(self.velocity)\n",
    "        # Update posisi gambar bola di canvas\n",
    "        self.canvas.coords(\n",
    "            self.shape,\n",
    "            self.position.x,\n",
    "            self.position.y,\n",
    "            self.position.x + self.radius*2,\n",
    "            self.position.y + self.radius*2\n",
    "        )\n",
    "        # Panggil ulang update setiap 50ms\n",
    "        self.canvas.after(50, self.update)\n",
    "\n",
    "# Inisialisasi Tkinter dan Canvas\n",
    "root = tk.Tk()\n",
    "canvas = tk.Canvas(root, width=400, height=150, bg=\"white\")\n",
    "canvas.pack()\n",
    "\n",
    "# Tambahan garis dan teks\n",
    "canvas.create_line(0, 80, 400, 80, fill=\"black\")\n",
    "canvas.create_text(200, 20, text=\"Bola Bergerak dengan Vector\", font=(\"Arial\", 14))\n",
    "\n",
    "# Buat bola dan jalankan\n",
    "bola = Bola(canvas, 10, 70, \"green\")\n",
    "bola.update()\n",
    "\n",
    "root.mainloop()\n"
   ]
  }
 ],
 "metadata": {
  "kernelspec": {
   "display_name": "venv",
   "language": "python",
   "name": "python3"
  },
  "language_info": {
   "codemirror_mode": {
    "name": "ipython",
    "version": 3
   },
   "file_extension": ".py",
   "mimetype": "text/x-python",
   "name": "python",
   "nbconvert_exporter": "python",
   "pygments_lexer": "ipython3",
   "version": "3.13.2"
  }
 },
 "nbformat": 4,
 "nbformat_minor": 5
}
