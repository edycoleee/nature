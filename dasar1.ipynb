{
 "cells": [
  {
   "cell_type": "code",
   "execution_count": null,
   "id": "f9fbe347",
   "metadata": {},
   "outputs": [
    {
     "name": "stdout",
     "output_type": "stream",
     "text": [
      "15\n",
      "36\n"
     ]
    }
   ],
   "source": [
    "# 📦 1. VARIABEL\n",
    "# Paham bahwa variabel menyimpan nilai yang bisa berubah, seperti kecepatan, posisi, warna.\n",
    "x = 10  # posisi horizontal\n",
    "speed = 5  # kecepatan ke kanan\n",
    "\n",
    "print(x + speed)  # hasilnya 15\n",
    "\n",
    "# Assignment (Pengisian Nilai)\n",
    "x += 2     # x = 17\n",
    "x *= 3     # x = 36\n",
    "print(x)\n",
    "\n",
    "# contoh 1 keranjang a bulpen berisi sejumlah 6 bulpen\n",
    "# contoh 1 keranjang b bulpen berisi sejumlah 4 buku"
   ]
  },
  {
   "cell_type": "code",
   "execution_count": null,
   "id": "7fa62541",
   "metadata": {},
   "outputs": [],
   "source": [
    "#2. DICT, LIST, TUPLE\n",
    "\n",
    "#LIST\n",
    "#Contoh list (mutable)\n",
    "#array (bisa diubah)\n",
    "# keranjang buah berisi : berbagai jenis buah \n",
    "buah = [\"apel\", \"jeruk\", \"pisang\"]\n",
    "buah[0] = \"mangga\"           # Bisa diubah\n",
    "buah.append(\"anggur\")        # Bisa ditambah\n",
    "print(buah) #['mangga', 'jeruk', 'pisang', 'anggur']\n",
    "#keranjang yang boleh berisi macam2 barang: uang,buah,bolpen,dll \n",
    "\n",
    "#TUPLE\n",
    "#tuple di Python ≈ array dengan const di JavaScript\n",
    "#array (tidak diubah)\n",
    "# sebuah alamat dan kode plat kendaraan\n",
    "lokasi = (\"Jakarta\", \"B\")\n",
    "print(lokasi[0])  # Output: Jakarta\n",
    "#keranjang yang boleh berisi macam2 barang: uang,buah,bolpen,dll tapi isinya tidak boleh diubah2\n",
    "\n",
    "# DICT di Python = object di JavaScript\n",
    "# kumpulan data user : nama, usia\n",
    "user = {\n",
    "    \"nama\": \"Andi\",\n",
    "    \"usia\": 25\n",
    "}\n",
    "print(user[\"nama\"])  # Output: Andi\n",
    "user[\"alamat\"] = \"Semarang\"\n",
    "print(user) #{'nama': 'Andi', 'usia': 25, 'alamat': 'Semarang'}\n",
    "user[\"nama\"] = \"Budi\"  # Ubah nama\n",
    "print(user) #{'nama': 'Budi', 'usia': 25, 'alamat': 'Semarang'}\n",
    "#keranjang yang berisi barang berpola (key : value) : buah :10, pulpen : 5 dll"
   ]
  },
  {
   "cell_type": "code",
   "execution_count": null,
   "id": "d29458d0",
   "metadata": {},
   "outputs": [
    {
     "name": "stdout",
     "output_type": "stream",
     "text": [
      "Halo, ini fungsi!\n",
      "Halo, ini fungsi!\n",
      "Halo default nama\n",
      "Halo Silmi\n",
      "Semua angka: (3, 4, 5)\n",
      "Jumlah: 12\n",
      "nama: Silmi\n",
      "alamat: Semarang\n",
      "usia: 13\n",
      "Hasilnya: 7\n",
      "Umur: 17\n",
      "Kategori: Remaja\n",
      "Harga tiket: Rp 20,000\n"
     ]
    }
   ],
   "source": [
    "# 3. FUNCTION (FUNGSI)\n",
    "# Paham bahwa fungsi adalah blok perintah yang bisa dipanggil berulang kali, untuk mengelompokkan logika tertentu.\n",
    "\n",
    "def fungsi1():\n",
    "    print(\"Halo, ini fungsi!\")\n",
    "\n",
    "fungsi1()  # Halo, ini fungsi!\n",
    "\n",
    "\n",
    "def fungsi2(nama):\n",
    "    print(\"Halo, ini fungsi!\")\n",
    "\n",
    "fungsi2(\"silmi\")  # Halo, ini fungsi!\n",
    "\n",
    "#Urutan tetap penting: parameter dengan default harus di belakang.\n",
    "def fungsi3(nama=\"default nama\"):\n",
    "    print(\"Halo\", nama)\n",
    "\n",
    "fungsi3()               # Output: Halo default nama\n",
    "fungsi3(\"Silmi\")        # Output: Halo Silmi\n",
    "\n",
    "#*args → untuk jumlah argumen tak terbatas (seperti array)\n",
    "#*angka akan berisi tuple (3, 4, 5)\n",
    "def total(*angka):\n",
    "    print(\"Semua angka:\", angka)\n",
    "    print(\"Jumlah:\", sum(angka))\n",
    "\n",
    "total(3, 4, 5)  # Semua angka: (3, 4, 5), Jumlah: 12\n",
    "\n",
    "#**kwargs: Argumen Kata Kunci Tak Terbatas\n",
    "def biodata(**data):\n",
    "    for k, v in data.items():\n",
    "        print(f\"{k}: {v}\")\n",
    "\n",
    "biodata(nama=\"Silmi\", alamat=\"Semarang\", usia=13)\n",
    "\n",
    "# Fungsi yang Mengembalikan Nilai (return)\n",
    "def tambah(a, b):\n",
    "    return a + b\n",
    "\n",
    "hasil = tambah(3, 4)\n",
    "print(\"Hasilnya:\", hasil)  # 7\n",
    "\n",
    "# Studi Kasus: Menentukan Kategori Usia + Harga Tiket\n",
    "def cek_kategori_tiket(umur):\n",
    "    if umur < 13:\n",
    "        kategori = \"Anak-anak\"\n",
    "        harga = 0\n",
    "    elif umur < 18:\n",
    "        kategori = \"Remaja\"\n",
    "        harga = 20000\n",
    "    else:\n",
    "        kategori = \"Dewasa\"\n",
    "        harga = 50000\n",
    "    \n",
    "    return kategori, harga\n",
    "\n",
    "# Pemakaian fungsi\n",
    "umur_user = 17\n",
    "kategori, harga = cek_kategori_tiket(umur_user)\n",
    "\n",
    "# Tampilkan hasil\n",
    "print(f\"Umur: {umur_user}\") #Umur: 17\n",
    "print(f\"Kategori: {kategori}\") #Kategori: Remaja\n",
    "print(f\"Harga tiket: Rp {harga:,}\") #Harga tiket: Rp 20,000\n",
    "\n"
   ]
  },
  {
   "cell_type": "code",
   "execution_count": null,
   "id": "92bda231",
   "metadata": {},
   "outputs": [
    {
     "name": "stdout",
     "output_type": "stream",
     "text": [
      "Halo:  silmi Alamat :  semarang\n",
      "Alamat :  semarang\n"
     ]
    }
   ],
   "source": [
    "# 4. GLOBAL VARIABLE\n",
    "# Paham bahwa variabel bisa diakses di mana-mana kalau dideklarasikan sebagai global.\n",
    "# Biasanya dipakai saat ingin mengubah/mengambil nilai dari luar fungsi.\n",
    "\n",
    "nama = \"silmi\"  # variabel global\n",
    "\n",
    "def sapa():\n",
    "    global alamat\n",
    "    alamat = \"semarang\"\n",
    "    print(\"Halo: \", nama,\"Alamat : \", alamat)\n",
    "\n",
    "sapa()  # Halo, ini fungsi!\n",
    "print(\"Alamat : \", alamat)"
   ]
  },
  {
   "cell_type": "code",
   "execution_count": 3,
   "id": "6f201719",
   "metadata": {},
   "outputs": [
    {
     "name": "stdout",
     "output_type": "stream",
     "text": [
      "Nilai terbesar adalah: 10\n",
      "Nilai terbesar adalah: 10\n"
     ]
    }
   ],
   "source": [
    "#5. Apa Itu Ternary Operator \n",
    "#nilai_jika_true if kondisi else nilai_jika_false\n",
    "#📌 Contoh 1: Menentukan Nilai Terbesar\n",
    "a = 5\n",
    "b = 10\n",
    "\n",
    "maks = a if a > b else b\n",
    "print(\"Nilai terbesar adalah:\", maks) #Nilai terbesar adalah: 10\n",
    "\n",
    "#🔸 Versi biasa:\n",
    "if a > b:\n",
    "    maks = a\n",
    "else:\n",
    "    maks = b\n",
    "print(\"Nilai terbesar adalah:\", maks) #Nilai terbesar adalah: 10"
   ]
  },
  {
   "cell_type": "code",
   "execution_count": null,
   "id": "1436b1c8",
   "metadata": {},
   "outputs": [],
   "source": [
    "# 6. FUNGSI Khusus : max()\tmin()\tsum()\tlen()\tsorted()\n",
    "\n",
    "# max()\tAmbil data dengan nilai terbesar\n",
    "angka = [5, 2, 9, 1, 2, 3]\n",
    "terbesar = max(angka)\n",
    "print(terbesar)  # 9\n",
    "\n",
    "# sum()\tJumlahkan semua nilai\n",
    "print(sum(angka))  # \n",
    "\n",
    "# sorted()\tUrutkan data\n",
    "print(sorted(angka))  # \n",
    "\n",
    "# filter() → Menyaring Data Sesuai Kondisi\n",
    "genap = list(filter(lambda x: x % 2 == 0, angka))\n",
    "print(genap)  # \n",
    "\n",
    "# map() → Mengubah Setiap Elemen\n",
    "dikali2 = list(map(lambda x: x * 2, angka))\n",
    "print(dikali2)  # \n"
   ]
  },
  {
   "cell_type": "code",
   "execution_count": 4,
   "id": "26b40459",
   "metadata": {},
   "outputs": [
    {
     "name": "stdout",
     "output_type": "stream",
     "text": [
      "Silmi\n",
      "Jakarta\n",
      "Silmi tinggal di Semarang\n",
      "Edy tinggal di Surabaya\n",
      "gita tinggal di Bandung\n",
      "[{'nama': 'Silmi', 'alamat': 'Semarang'}, {'nama': 'Edy', 'alamat': 'Surabaya'}, {'nama': 'gita', 'alamat': 'Bandung'}]\n",
      "[{'nama': 'Silmi', 'alamat': 'Semarang'}, {'nama': 'Edy', 'alamat': 'Surabaya'}, {'nama': 'gita', 'alamat': 'Bandung'}, {'bebas': 'tidak beraturan'}]\n",
      "Silmi tinggal di Semarang\n",
      "Edy tinggal di Surabaya\n",
      "gita tinggal di Bandung\n"
     ]
    },
    {
     "ename": "KeyError",
     "evalue": "'nama'",
     "output_type": "error",
     "traceback": [
      "\u001b[1;31m---------------------------------------------------------------------------\u001b[0m",
      "\u001b[1;31mKeyError\u001b[0m                                  Traceback (most recent call last)",
      "Cell \u001b[1;32mIn[4], line 29\u001b[0m\n\u001b[0;32m     26\u001b[0m \u001b[38;5;28mprint\u001b[39m(siswa) \u001b[38;5;66;03m#[{'nama': 'Silmi', 'alamat': 'Semarang'}, {'nama': 'Edy', 'alamat': 'Surabaya'}, {'nama': 'gita', 'alamat': 'Bandung'}, {'bebas': 'tidak beraturan'}]\u001b[39;00m\n\u001b[0;32m     28\u001b[0m \u001b[38;5;28;01mfor\u001b[39;00m s \u001b[38;5;129;01min\u001b[39;00m siswa:\n\u001b[1;32m---> 29\u001b[0m     \u001b[38;5;28mprint\u001b[39m(\u001b[38;5;124mf\u001b[39m\u001b[38;5;124m\"\u001b[39m\u001b[38;5;132;01m{\u001b[39;00ms[\u001b[38;5;124m'\u001b[39m\u001b[38;5;124mnama\u001b[39m\u001b[38;5;124m'\u001b[39m]\u001b[38;5;132;01m}\u001b[39;00m\u001b[38;5;124m tinggal di \u001b[39m\u001b[38;5;132;01m{\u001b[39;00ms[\u001b[38;5;124m'\u001b[39m\u001b[38;5;124malamat\u001b[39m\u001b[38;5;124m'\u001b[39m]\u001b[38;5;132;01m}\u001b[39;00m\u001b[38;5;124m\"\u001b[39m) \u001b[38;5;66;03m#error karena array object isinya tidak beraturan >> dibutuhkan class supaya bentuk array object siswa selalu beraturan\u001b[39;00m\n\u001b[0;32m     31\u001b[0m \u001b[38;5;66;03m#✅ List of dict fleksibel tapi ❌ tidak menjamin struktur data yang tetap.\u001b[39;00m\n\u001b[0;32m     32\u001b[0m \u001b[38;5;66;03m#Contoh: kita bisa tambah {\"bebas\": \"tidak beraturan\"} yang menyebabkan error saat looping.\u001b[39;00m\n\u001b[0;32m     33\u001b[0m \n\u001b[0;32m     34\u001b[0m \u001b[38;5;66;03m# analogi sebuah ruangan[] yang berisi banyak keranjang{}, dengan keranjang isinya berpola (key: value)\u001b[39;00m\n",
      "\u001b[1;31mKeyError\u001b[0m: 'nama'"
     ]
    }
   ],
   "source": [
    "# 7. List of Dict di Python : Array Object\n",
    "siswa = [\n",
    "    {\"nama\": \"Silmi\", \"alamat\": \"Semarang\"},\n",
    "    {\"nama\": \"Edy\", \"alamat\": \"Jakarta\"}\n",
    "]\n",
    "\n",
    "#🧪 1. Akses Data\n",
    "print(siswa[0][\"nama\"])     # Silmi\n",
    "print(siswa[1][\"alamat\"])   # Jakarta\n",
    "\n",
    "siswa.append({\"nama\": \"gita\", \"alamat\": \"Bandung\"})\n",
    "\n",
    "#✏️ 3. Ubah Data dalam Dict\n",
    "siswa[1][\"alamat\"] = \"Surabaya\"\n",
    "\n",
    "# Loop Semua Data\n",
    "for s in siswa:\n",
    "    print(f\"{s['nama']} tinggal di {s['alamat']}\")\n",
    "#Silmi tinggal di Semarang\n",
    "#Edy tinggal di Jakarta\n",
    "#gita tinggal di Bandung\n",
    "\n",
    "print(siswa) #[{'nama': 'Silmi', 'alamat': 'Semarang'}, {'nama': 'Edy', 'alamat': 'Jakarta'}, {'nama': 'gita', 'alamat': 'Bandung'}]\n",
    "\n",
    "siswa.append({\"bebas\": \"tidak beraturan\"})\n",
    "print(siswa) #[{'nama': 'Silmi', 'alamat': 'Semarang'}, {'nama': 'Edy', 'alamat': 'Surabaya'}, {'nama': 'gita', 'alamat': 'Bandung'}, {'bebas': 'tidak beraturan'}]\n",
    "\n",
    "for s in siswa:\n",
    "    print(f\"{s['nama']} tinggal di {s['alamat']}\") #error karena array object isinya tidak beraturan >> dibutuhkan class supaya bentuk array object siswa selalu beraturan\n",
    "\n",
    "#✅ List of dict fleksibel tapi ❌ tidak menjamin struktur data yang tetap.\n",
    "#Contoh: kita bisa tambah {\"bebas\": \"tidak beraturan\"} yang menyebabkan error saat looping.\n",
    "\n",
    "# analogi sebuah ruangan[] yang berisi banyak keranjang{}, dengan keranjang isinya berpola (key: value)"
   ]
  },
  {
   "cell_type": "code",
   "execution_count": null,
   "id": "4ff6e6d2",
   "metadata": {},
   "outputs": [
    {
     "name": "stdout",
     "output_type": "stream",
     "text": [
      "Silmi tinggal di Semarang\n",
      "Edy tinggal di Surabaya\n",
      "Gita tinggal di Bandung\n",
      "Lina tinggal di Medan\n"
     ]
    }
   ],
   "source": [
    "# 8. OOP (Object-Oriented Programming) di Python\n",
    "#✅ List of dict fleksibel tapi ❌ tidak menjamin struktur data yang tetap.\n",
    "#Contoh: kita bisa tambah {\"bebas\": \"tidak beraturan\"} yang menyebabkan error saat looping.\n",
    "# Versi OOP (Class)\n",
    "\n",
    "# Class Siswa sebagai template\n",
    "class Siswa:\n",
    "    def __init__(self, nama, alamat):\n",
    "        self.nama = nama\n",
    "        self.alamat = alamat\n",
    "\n",
    "    def tampilkan(self):\n",
    "        print(f\"{self.nama} tinggal di {self.alamat}\")\n",
    "\n",
    "# List of Object (bukan dict lagi)\n",
    "daftar_siswa = [\n",
    "    Siswa(\"Silmi\", \"Semarang\"),\n",
    "    Siswa(\"Edy\", \"Jakarta\"),\n",
    "    Siswa(\"Gita\", \"Bandung\")\n",
    "]\n",
    "\n",
    "# Tambah siswa baru\n",
    "daftar_siswa.append(Siswa(\"Lina\", \"Medan\"))\n",
    "\n",
    "# Ubah data Edy (indeks 1)\n",
    "daftar_siswa[1].alamat = \"Surabaya\"\n",
    "\n",
    "# Tampilkan semua siswa\n",
    "for s in daftar_siswa:\n",
    "    s.tampilkan()\n"
   ]
  },
  {
   "cell_type": "code",
   "execution_count": null,
   "id": "b9dc637c",
   "metadata": {},
   "outputs": [],
   "source": [
    "#9. Fungsi Khusus untuk List of Object\n",
    "class Siswa:\n",
    "    def __init__(self, nama, nilai):\n",
    "        self.nama = nama\n",
    "        self.nilai = nilai\n",
    "\n",
    "siswa = [\n",
    "    Siswa(\"Silmi\", 88),\n",
    "    Siswa(\"Edy\", 95),\n",
    "    Siswa(\"Gita\", 80),\n",
    "]\n",
    "\n",
    "# max()\tAmbil data dengan nilai terbesar\n",
    "terbaik = max(siswa, key=lambda s: s.nilai)\n",
    "print(terbaik.nama)  # Edy\n",
    "\n",
    "# min()\tAmbil data dengan nilai terkecil\n",
    "terendah = min(siswa, key=lambda s: s.nilai)\n",
    "print(terendah.nama)  # Gita\n",
    "\n",
    "# sum()\tJumlahkan semua nilai\n",
    "total_nilai = sum(s.nilai for s in siswa)\n",
    "print(total_nilai)  # 263\n",
    "\n",
    "# len()\tHitung jumlah item dalam list\n",
    "print(len(siswa))  # 3\n",
    "\n",
    "# sorted()\tUrutkan data\n",
    "urut = sorted(siswa, key=lambda s: s.nilai, reverse=True)\n",
    "for s in urut:\n",
    "    print(s.nama, s.nilai)\n",
    "\n",
    "\n",
    "# filter() → Menyaring Data Sesuai Kondisi\n",
    "# Ambil yang nilainya lulus (>=75)\n",
    "lulus = list(filter(lambda s: s.nilai >= 75, siswa))\n",
    "\n",
    "for s in lulus:\n",
    "    print(f\"{s.nama} lulus dengan nilai {s.nilai}\")\n",
    "\n",
    "# map() → Mengubah Setiap Elemen\n",
    "# Ubah jadi list of string\n",
    "hasil = list(map(lambda s: f\"{s.nama}: {s.nilai}\", siswa))\n",
    "\n",
    "print(hasil)\n",
    "# ['Silmi: 88', 'Edy: 95', 'Gita: 70', 'Rani: 60']\n",
    "\n",
    "# Kombinasi filter() + map()\n",
    "# Cetak nama siswa yang lulus\n",
    "hasil = list(map(lambda s: s.nama, filter(lambda s: s.nilai >= 75, siswa)))\n",
    "print(hasil)  # ['Silmi', 'Edy']"
   ]
  },
  {
   "cell_type": "code",
   "execution_count": null,
   "id": "778fd1fa",
   "metadata": {},
   "outputs": [
    {
     "name": "stdout",
     "output_type": "stream",
     "text": [
      "Silmi - Nilai: 80\n",
      "True\n"
     ]
    }
   ],
   "source": [
    "# 9. Fungsi dalam Class = Method\n",
    "# lulus() dan tampilkan() disebut method\n",
    "# Semua method harus punya self sebagai parameter pertama\n",
    "class Siswa:\n",
    "    def __init__(self, nama, nilai):\n",
    "        self.nama = nama\n",
    "        self.nilai = nilai\n",
    "\n",
    "    def lulus(self):\n",
    "        return self.nilai >= 75\n",
    "\n",
    "    def tampilkan(self):\n",
    "        print(f\"{self.nama} - Nilai: {self.nilai}\")\n",
    "\n",
    "# Pakai class\n",
    "s1 = Siswa(\"Silmi\", 80)\n",
    "s1.tampilkan()             # Silmi - Nilai: 80\n",
    "print(s1.lulus())          # True\n"
   ]
  },
  {
   "cell_type": "code",
   "execution_count": null,
   "id": "f9d6efd4",
   "metadata": {},
   "outputs": [
    {
     "name": "stdout",
     "output_type": "stream",
     "text": [
      "Silmi tinggal di Semarang\n",
      "Edy tinggal di Tidak diketahui\n",
      "Anonim tinggal di Tidak diketahui\n"
     ]
    }
   ],
   "source": [
    "# 10. __init__() dengan Nilai Default\n",
    "#Urutan tetap penting: parameter dengan default harus di belakang.\n",
    "class Siswa:\n",
    "    def __init__(self, nama=\"Anonim\", alamat=\"Tidak diketahui\"):\n",
    "        self.nama = nama\n",
    "        self.alamat = alamat\n",
    "\n",
    "    def tampilkan(self):\n",
    "        print(f\"{self.nama} tinggal di {self.alamat}\")\n",
    "\n",
    "s1 = Siswa(\"Silmi\", \"Semarang\")\n",
    "s2 = Siswa(\"Edy\")                  # alamat default\n",
    "s3 = Siswa()                       # nama dan alamat default\n",
    "\n",
    "s1.tampilkan()  # Silmi tinggal di Semarang\n",
    "s2.tampilkan()  # Edy tinggal di Tidak diketahui\n",
    "s3.tampilkan()  # Anonim tinggal di Tidak diketahui"
   ]
  },
  {
   "cell_type": "code",
   "execution_count": null,
   "id": "25bd835d",
   "metadata": {},
   "outputs": [
    {
     "name": "stdout",
     "output_type": "stream",
     "text": [
      "10\n"
     ]
    }
   ],
   "source": [
    "# 11. Gabungan: Method dengan *args, return, dll\n",
    "class Kalkulator:\n",
    "    def jumlahkan(self, *angka):\n",
    "        return sum(angka)\n",
    "\n",
    "k = Kalkulator()\n",
    "print(k.jumlahkan(1, 2, 3, 4))  # Output: 10\n"
   ]
  },
  {
   "cell_type": "code",
   "execution_count": null,
   "id": "70fedae7",
   "metadata": {},
   "outputs": [
    {
     "name": "stdout",
     "output_type": "stream",
     "text": [
      "silmi semarang 8\n",
      "edy pati 8\n",
      "Nama: silmi, Alamat: semarang, Kelas: 8\n",
      "dina solo 8 Lomba: matematika\n"
     ]
    }
   ],
   "source": [
    "# 12. __str__() untuk cetak objek dengan lebih rapi\n",
    "# Kelas Bola\n",
    "class Siswa:\n",
    "    #self\tmenunjuk ke objek itu sendiri\n",
    "    def __init__(self, nama, alamat):\n",
    "        self.nama = nama\n",
    "        self.alamat = alamat\n",
    "        self.kelas = 8\n",
    "\n",
    "    def identitas(self):\n",
    "        print(self.nama, self.alamat, self.kelas)\n",
    "\n",
    "    #__str__() untuk cetak objek dengan lebih rapi\n",
    "    def __str__(self):\n",
    "        return f\"Nama: {self.nama}, Alamat: {self.alamat}, Kelas: {self.kelas}\"\n",
    "    \n",
    "siswa1 = Siswa(\"silmi\", \"semarang\")\n",
    "siswa1.identitas() #silmi semarang 8\n",
    "\n",
    "siswa2 = Siswa(\"edy\", \"pati\") \n",
    "siswa2.identitas() #edy pati 8\n",
    "\n",
    "print(siswa1) # Nama: silmi, Alamat: semarang, Kelas: 8\n",
    "\n",
    "\n",
    "#2. Mewarisi Kelas (Pewarisan / Inheritance)\n",
    "class SiswaOlimpiade(Siswa):  # mewarisi dari Siswa\n",
    "    def __init__(self, nama, alamat, lomba):\n",
    "        #super()\tmenunjuk ke kelas induk (parent), berguna saat kita extend kelas lain\n",
    "        super().__init__(nama, alamat)  # panggil konstruktor dari kelas Siswa\n",
    "        self.lomba = lomba\n",
    "\n",
    "    def identitas(self):\n",
    "        # menambahkan info lomba ke identitas\n",
    "        print(self.nama, self.alamat, self.kelas, \"Lomba:\", self.lomba)\n",
    "\n",
    "siswa3 = SiswaOlimpiade(\"dina\", \"solo\", \"matematika\")\n",
    "siswa3.identitas() #dina solo 8 Lomba: matematika\n",
    "\n"
   ]
  },
  {
   "cell_type": "code",
   "execution_count": null,
   "id": "8f19ed87",
   "metadata": {},
   "outputs": [
    {
     "name": "stdout",
     "output_type": "stream",
     "text": [
      "Rina Sangat Baik\n"
     ]
    }
   ],
   "source": [
    "# 13. Latihan Class , if else, max\n",
    "class Siswa:\n",
    "    def __init__(self, nama, alamat, nilai):\n",
    "        self.nama = nama\n",
    "        self.alamat = alamat\n",
    "        self.nilai = nilai\n",
    "\n",
    "    def predikat(self):\n",
    "        if self.nilai >= 90:\n",
    "            return \"Sangat Baik\"\n",
    "        elif self.nilai >= 75:\n",
    "            return \"Baik\"\n",
    "        else:\n",
    "            return \"Perlu Bimbingan\"\n",
    "\n",
    "daftar_siswa = [\n",
    "    Siswa(\"Rina\", \"Surabaya\", 92),\n",
    "    Siswa(\"Budi\", \"Semarang\", 85),\n",
    "    Siswa(\"Wati\", \"Solo\", 70),\n",
    "]\n",
    "\n",
    "terbaik = max(daftar_siswa, key=lambda s: s.nilai)\n",
    "print(terbaik.nama, terbaik.predikat())\n"
   ]
  }
 ],
 "metadata": {
  "kernelspec": {
   "display_name": "venv",
   "language": "python",
   "name": "python3"
  },
  "language_info": {
   "codemirror_mode": {
    "name": "ipython",
    "version": 3
   },
   "file_extension": ".py",
   "mimetype": "text/x-python",
   "name": "python",
   "nbconvert_exporter": "python",
   "pygments_lexer": "ipython3",
   "version": "3.10.4"
  }
 },
 "nbformat": 4,
 "nbformat_minor": 5
}
