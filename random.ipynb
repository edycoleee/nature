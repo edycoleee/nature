{
 "cells": [
  {
   "cell_type": "code",
   "execution_count": null,
   "id": "abec79aa",
   "metadata": {},
   "outputs": [],
   "source": []
  },
  {
   "cell_type": "code",
   "execution_count": 1,
   "id": "4cbb7292",
   "metadata": {},
   "outputs": [
    {
     "name": "stdout",
     "output_type": "stream",
     "text": [
      "1x koordinat acak (dx, dy): 1 0\n",
      "10 pasangan koordinat acak (dx, dy): [(-1, 0), (1, -1), (1, -1), (0, 0), (0, 0), (-1, -1), (0, 1), (0, 1), (0, 0), (-1, 1)]\n"
     ]
    }
   ],
   "source": [
    "# PEMAHAMAN FUNGSI random.gauss(0, 1)\n",
    "import random\n",
    "\n",
    "# Fungsi bantu untuk mengubah angka float jadi langkah diskrit: -1, 0, atau 1\n",
    "def to_step(value):\n",
    "    if value > 0.5:\n",
    "        return 1\n",
    "    elif value < -0.5:\n",
    "        return -1\n",
    "    else:\n",
    "        return 0\n",
    "\n",
    "# Melihat 1x hasil random.gauss pada koordinat (x, y)\n",
    "dx = to_step(random.gauss(0, 1))\n",
    "dy = to_step(random.gauss(0, 1))\n",
    "print(\"1x koordinat acak (dx, dy):\", dx, dy)\n",
    "\n",
    "# Melihat 10x hasil fungsi random.gauss\n",
    "result = []  # list kosong untuk menyimpan pasangan (dx, dy)\n",
    "\n",
    "# Loop sebanyak 10 kali\n",
    "for _ in range(10):\n",
    "    dx = to_step(random.gauss(0, 1))  # hasil Gaussian dikonversi ke -1, 0, 1\n",
    "    dy = to_step(random.gauss(0, 1))\n",
    "    result.append((dx, dy))           # simpan pasangan langkah (dx, dy)\n",
    "\n",
    "# Tampilkan hasil\n",
    "print(\"10 pasangan koordinat acak (dx, dy):\", result)\n"
   ]
  },
  {
   "cell_type": "code",
   "execution_count": 2,
   "id": "d3bb4a75",
   "metadata": {},
   "outputs": [
    {
     "name": "stdout",
     "output_type": "stream",
     "text": [
      "1x koordinat acak di sekitar pusat (x, y): 321 280\n",
      "10 koordinat acak di sekitar pusat (x, y): [(286, 325), (307, 323), (305, 298), (211, 332), (297, 313), (340, 321), (403, 291), (296, 359), (308, 290), (289, 392)]\n"
     ]
    }
   ],
   "source": [
    "# PEMAHAMAN FUNGSI random.gauss(cx, 50)\n",
    "import random\n",
    "\n",
    "# Titik pusat (anggap sebagai target atau tengah layar)\n",
    "center_x = 300\n",
    "center_y = 300\n",
    "\n",
    "# Melihat 1x hasil random.gauss di sekitar pusat\n",
    "x = random.gauss(center_x, 50)  # Mean = center_x, SD = 50\n",
    "y = random.gauss(center_y, 50)  # Mean = center_y, SD = 50\n",
    "print(\"1x koordinat acak di sekitar pusat (x, y):\", round(x), round(y))\n",
    "\n",
    "# Melihat 10x hasil random.gauss\n",
    "result = []  # list untuk menyimpan koordinat acak\n",
    "\n",
    "for _ in range(10):\n",
    "    x = random.gauss(center_x, 50)\n",
    "    y = random.gauss(center_y, 50)\n",
    "    result.append((round(x), round(y)))  # dibulatkan agar mudah dibaca\n",
    "\n",
    "# Tampilkan hasil\n",
    "print(\"10 koordinat acak di sekitar pusat (x, y):\", result)\n"
   ]
  },
  {
   "cell_type": "code",
   "execution_count": 4,
   "id": "a43a57ba",
   "metadata": {},
   "outputs": [
    {
     "name": "stdout",
     "output_type": "stream",
     "text": [
      "Posisi awal: (10, 10)\n",
      "10 posisi setelah langkah acak dengan distribusi normal:\n",
      "(11.278386146083678, 10.442602422882773)\n",
      "(10.982175008706237, 9.923949388650197)\n",
      "(11.302636620094438, 8.837935122251933)\n",
      "(8.362007439636729, 10.33638586951938)\n",
      "(8.154742818817704, 10.140728950144148)\n",
      "(7.176301556461636, 9.818878788189581)\n",
      "(5.473438590793006, 9.818145306017364)\n",
      "(6.122783296872072, 9.419149482426702)\n",
      "(4.738364054895625, 11.58033352966317)\n",
      "(4.9844917104495625, 11.22614102474622)\n"
     ]
    }
   ],
   "source": [
    "import random\n",
    "\n",
    "class Walker:\n",
    "    def __init__(self, x=0, y=0, step_size=1):\n",
    "        self.x = x\n",
    "        self.y = y\n",
    "        self.step_size = step_size  # simpangan baku untuk langkah normal\n",
    "\n",
    "    def move(self):\n",
    "        # Langkah dengan distribusi normal (mean=0, sd=step_size)\n",
    "        step_x = random.gauss(0, self.step_size)\n",
    "        step_y = random.gauss(0, self.step_size)\n",
    "        \n",
    "        # Update posisi dengan langkah yang di-generate\n",
    "        self.x += step_x\n",
    "        self.y += step_y\n",
    "\n",
    "    def position(self):\n",
    "        return (self.x, self.y)\n",
    "\n",
    "\n",
    "walker = Walker(10,10,step_size=1)\n",
    "\n",
    "print(\"Posisi awal:\", walker.position())\n",
    "\n",
    "# Gerakkan walker 10 langkah\n",
    "positions = []\n",
    "for _ in range(10):\n",
    "    walker.move()\n",
    "    positions.append(walker.position())\n",
    "\n",
    "print(\"10 posisi setelah langkah acak dengan distribusi normal:\")\n",
    "for pos in positions:\n",
    "    print(pos)\n"
   ]
  },
  {
   "cell_type": "code",
   "execution_count": 6,
   "id": "af6d4f93",
   "metadata": {},
   "outputs": [
    {
     "name": "stdout",
     "output_type": "stream",
     "text": [
      "1x langkah acak montecarlo_squared(): -10.99 9.14\n",
      "10 langkah acak montecarlo_squared(): [(15.38, 11.3), (1.32, 7.68), (0.62, 7.05), (-7.77, 17.08), (5.14, -11.07), (-1.99, -8.4), (7.92, 4.17), (-14.63, 12.33), (9.08, 0.68), (3.49, 1.01)]\n",
      "Posisi akhir walker: (7.57, 50.97)\n"
     ]
    }
   ],
   "source": [
    "import random\n",
    "\n",
    "class Walker:\n",
    "    def __init__(self, x=0, y=0):\n",
    "        self.x = x\n",
    "        self.y = y\n",
    "\n",
    "    def montecarlo_squared(self):\n",
    "        \"\"\"Generasi nilai acak dengan probabilitas kuadratik (bias ke nilai besar)\"\"\"\n",
    "        while True:\n",
    "            r1 = random.random()  # Nilai acak 0-1\n",
    "            probability = r1 * r1  # Probabilitas kuadrat (0-1)\n",
    "            r2 = random.random()   # Pembanding acak\n",
    "            \n",
    "            if r2 < probability:   # Seleksi Monte Carlo\n",
    "                return r1          # Return nilai yang lolos seleksi\n",
    "\n",
    "    def move(self):\n",
    "        base = self.montecarlo_squared()  # Nilai 0-1 (cenderung besar)\n",
    "        \n",
    "        # Hitung ukuran langkah (0-20px)\n",
    "        stepsize = base * 20  \n",
    "        \n",
    "        # Gerakan acak dalam lingkaran\n",
    "        dx = random.uniform(-stepsize, stepsize)\n",
    "        dy = random.uniform(-stepsize, stepsize)\n",
    "\n",
    "        # Update posisi\n",
    "        self.x += dx\n",
    "        self.y += dy\n",
    "\n",
    "        # Round 2 angka di belakang koma\n",
    "        return round(dx, 2), round(dy, 2)\n",
    "\n",
    "# Membuat objek walker\n",
    "walker = Walker()\n",
    "\n",
    "# Melihat 1x hasil move\n",
    "dx, dy = walker.move()\n",
    "print(\"1x langkah acak montecarlo_squared():\", dx, dy)\n",
    "\n",
    "# Melihat 10x hasil move\n",
    "result = []\n",
    "for _ in range(10):\n",
    "    dx, dy = walker.move()\n",
    "    result.append((dx, dy))\n",
    "\n",
    "print(\"10 langkah acak montecarlo_squared():\", result)\n",
    "print(\"Posisi akhir walker:\", (round(walker.x, 2), round(walker.y, 2)))\n"
   ]
  },
  {
   "cell_type": "code",
   "execution_count": 8,
   "id": "cc159c8e",
   "metadata": {},
   "outputs": [
    {
     "name": "stdout",
     "output_type": "stream",
     "text": [
      "10 koordinat (x, y) dari Perlin Noise (nilai -1 sampai 1):\n",
      "Point 1: (0.0, 0.0)\n",
      "Point 2: (-0.407, -0.157)\n",
      "Point 3: (-0.202, -0.068)\n",
      "Point 4: (0.136, 0.023)\n",
      "Point 5: (0.015, -0.109)\n",
      "Point 6: (0.0, 0.0)\n",
      "Point 7: (0.031, 0.268)\n",
      "Point 8: (-0.09, 0.134)\n",
      "Point 9: (0.14, -0.073)\n",
      "Point 10: (0.263, 0.092)\n"
     ]
    }
   ],
   "source": [
    "from perlin_noise import PerlinNoise  # pip install perlin-noise\n",
    "\n",
    "# Inisialisasi noise dengan detail sedang dan seed tetap\n",
    "noise = PerlinNoise(octaves=4, seed=123)\n",
    "\n",
    "time = 0\n",
    "step = 0.1  # langkah waktu untuk menghasilkan titik baru\n",
    "\n",
    "positions = []\n",
    "\n",
    "# Generate 10 koordinat (x, y) murni dari Perlin Noise (nilai antara -1 sampai 1)\n",
    "for i in range(10):\n",
    "    x = noise([time])         # nilai noise untuk x, antara -1 dan 1\n",
    "    y = noise([time + 50])    # nilai noise untuk y, beda offset supaya berbeda dengan x\n",
    "    \n",
    "    # Simpan koordinat dalam list\n",
    "    positions.append((round(x, 3), round(y, 3)))\n",
    "    \n",
    "    time += step\n",
    "\n",
    "# Tampilkan hasil koordinat\n",
    "print(\"10 koordinat (x, y) dari Perlin Noise (nilai -1 sampai 1):\")\n",
    "for i, pos in enumerate(positions, 1):\n",
    "    print(f\"Point {i}: {pos}\")\n"
   ]
  },
  {
   "cell_type": "code",
   "execution_count": 7,
   "id": "c6b22a72",
   "metadata": {},
   "outputs": [
    {
     "name": "stdout",
     "output_type": "stream",
     "text": [
      "10 posisi koordinat (x, y) dari Perlin Noise:\n",
      "Step 1: (400.0, 200.0)\n",
      "Step 2: (396.37, 203.4)\n",
      "Step 3: (392.51, 207.0)\n",
      "Step 4: (388.33, 210.89)\n",
      "Step 5: (383.85, 215.04)\n",
      "Step 6: (379.17, 219.37)\n",
      "Step 7: (374.46, 223.7)\n",
      "Step 8: (369.92, 227.87)\n",
      "Step 9: (365.74, 231.69)\n",
      "Step 10: (362.14, 234.97)\n"
     ]
    }
   ],
   "source": [
    "from perlin_noise import PerlinNoise  # pip install perlin-noise\n",
    "\n",
    "# Setup dasar\n",
    "WIDTH = 800\n",
    "HEIGHT = 400\n",
    "\n",
    "# Inisialisasi noise\n",
    "noise = PerlinNoise(octaves=4, seed=123)  # octaves=detail, seed=hasil konsisten\n",
    "\n",
    "time = 0\n",
    "step = 0.01  # skala perubahan waktu / posisi\n",
    "\n",
    "positions = []\n",
    "\n",
    "# Simulasi 10 langkah posisi menggunakan Perlin Noise\n",
    "for x in range(10):\n",
    "    n_x = noise([time])       # nilai noise untuk x (nilai antara -1 sampai 1)\n",
    "    n_y = noise([time + 100]) # offset supaya nilai y beda (bisa sesuaikan offset)\n",
    "    \n",
    "    # Hitung koordinat pada canvas, misal posisi tengah canvas + noise * skala\n",
    "    pos_x = WIDTH // 2 + n_x * 100  # 100 = skala/amplitudo horizontal\n",
    "    pos_y = HEIGHT // 2 + n_y * 100 # 100 = skala/amplitudo vertikal\n",
    "    \n",
    "    # Bulatkan 2 angka di belakang koma agar lebih rapi\n",
    "    pos_x = round(pos_x, 2)\n",
    "    pos_y = round(pos_y, 2)\n",
    "    \n",
    "    positions.append((pos_x, pos_y))\n",
    "    \n",
    "    time += step  # maju waktu untuk data noise selanjutnya\n",
    "\n",
    "# Tampilkan posisi hasil Perlin Noise\n",
    "print(\"10 posisi koordinat (x, y) dari Perlin Noise:\")\n",
    "for i, pos in enumerate(positions, 1):\n",
    "    print(f\"Step {i}: {pos}\")\n"
   ]
  },
  {
   "cell_type": "code",
   "execution_count": 9,
   "id": "5ead6a51",
   "metadata": {},
   "outputs": [
    {
     "name": "stdout",
     "output_type": "stream",
     "text": [
      "10 koordinat (x, y) hasil mapping dari Perlin Noise:\n",
      "Point 1: (400.0, 200.0)\n",
      "Point 2: (237.15, 168.58)\n",
      "Point 3: (319.03, 186.39)\n",
      "Point 4: (454.36, 204.57)\n",
      "Point 5: (406.09, 178.15)\n",
      "Point 6: (400.0, 200.0)\n",
      "Point 7: (412.43, 253.54)\n",
      "Point 8: (363.96, 226.78)\n",
      "Point 9: (456.02, 185.44)\n",
      "Point 10: (505.29, 218.46)\n"
     ]
    }
   ],
   "source": [
    "from perlin_noise import PerlinNoise  # pip install perlin-noise\n",
    "\n",
    "# Fungsi mapping: ubah value dari satu rentang ke rentang lain\n",
    "def map_value(value, from_min, from_max, to_min, to_max):\n",
    "    return to_min + (to_max - to_min) * ((value - from_min) / (from_max - from_min))\n",
    "\n",
    "# Inisialisasi Perlin Noise\n",
    "noise = PerlinNoise(octaves=4, seed=123)\n",
    "\n",
    "time = 0\n",
    "step = 0.1  # langkah waktu\n",
    "\n",
    "positions = []\n",
    "\n",
    "# Ukuran bidang (misalnya layar)\n",
    "WIDTH = 800\n",
    "HEIGHT = 400\n",
    "\n",
    "# Generate 10 titik koordinat hasil noise, lalu mapping ke layar\n",
    "for i in range(10):\n",
    "    raw_x = noise([time])           # nilai Perlin asli untuk x: -1 sampai 1\n",
    "    raw_y = noise([time + 50])      # nilai Perlin asli untuk y: -1 sampai 1\n",
    "\n",
    "    # Mapping nilai -1..1 ke 0..WIDTH dan 0..HEIGHT\n",
    "    x = map_value(raw_x, -1, 1, 0, WIDTH)\n",
    "    y = map_value(raw_y, -1, 1, 0, HEIGHT)\n",
    "\n",
    "    # Simpan koordinat setelah dibulatkan 2 angka di belakang koma\n",
    "    positions.append((round(x, 2), round(y, 2)))\n",
    "\n",
    "    time += step  # geser waktu agar noise berubah perlahan\n",
    "\n",
    "# Cetak hasil koordinat\n",
    "print(\"10 koordinat (x, y) hasil mapping dari Perlin Noise:\")\n",
    "for i, pos in enumerate(positions, 1):\n",
    "    print(f\"Point {i}: {pos}\")\n"
   ]
  }
 ],
 "metadata": {
  "kernelspec": {
   "display_name": "venv",
   "language": "python",
   "name": "python3"
  },
  "language_info": {
   "codemirror_mode": {
    "name": "ipython",
    "version": 3
   },
   "file_extension": ".py",
   "mimetype": "text/x-python",
   "name": "python",
   "nbconvert_exporter": "python",
   "pygments_lexer": "ipython3",
   "version": "3.10.4"
  }
 },
 "nbformat": 4,
 "nbformat_minor": 5
}
